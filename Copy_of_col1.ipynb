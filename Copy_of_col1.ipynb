{
  "nbformat": 4,
  "nbformat_minor": 0,
  "metadata": {
    "colab": {
      "provenance": [],
      "authorship_tag": "ABX9TyOCxcOUpr6oWPiUNrGY5WNq"
    },
    "kernelspec": {
      "name": "python3",
      "display_name": "Python 3"
    },
    "language_info": {
      "name": "python"
    },
    "accelerator": "TPU"
  },
  "cells": [
    {
      "cell_type": "code",
      "execution_count": null,
      "metadata": {
        "id": "W0-_G7B_534m",
        "colab": {
          "base_uri": "https://localhost:8080/"
        },
        "outputId": "5ee89c01-ad84-4ce0-a7a7-74e6736aeef1"
      },
      "outputs": [
        {
          "output_type": "stream",
          "name": "stdout",
          "text": [
            "bolo sadiq\n"
          ]
        }
      ],
      "source": [
        "print(\"bolo sadiq\")\n"
      ]
    }
  ]
}